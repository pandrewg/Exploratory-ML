{
 "cells": [
  {
   "cell_type": "code",
   "execution_count": 1,
   "metadata": {
    "collapsed": true
   },
   "outputs": [],
   "source": [
    "import pandas as pd\n",
    "import numpy as np\n",
    "import os.path \n",
    "import pandas_datareader.data as web\n",
    "import datetime \n",
    "import matplotlib.pyplot as plt\n",
    "import seaborn as sns\n",
    "from scipy.stats.mstats import gmean\n",
    "\n",
    "%matplotlib inline\n",
    "plt.style.use('ggplot')"
   ]
  },
  {
   "cell_type": "code",
   "execution_count": 2,
   "metadata": {
    "collapsed": true
   },
   "outputs": [],
   "source": [
    "def grab_data(file):\n",
    "    \n",
    "    path = 'C:\\\\Users\\\\Pablo\\\\Desktop\\\\Exploratory-Market-Analytics\\\\Unsupervised-Learning\\\\stock-data\\\\Stocks\\\\' + file\n",
    "    data = pd.read_csv(path)\n",
    "    data.Date = data.Date.apply(lambda x: np.datetime64(x))\n",
    "    data.set_index('Date',inplace=True)\n",
    "    \n",
    "    return data.copy()"
   ]
  },
  {
   "cell_type": "code",
   "execution_count": 3,
   "metadata": {
    "collapsed": true
   },
   "outputs": [],
   "source": [
    "ibm1 = grab_data('ibm.us.txt')"
   ]
  },
  {
   "cell_type": "code",
   "execution_count": 4,
   "metadata": {
    "collapsed": true
   },
   "outputs": [],
   "source": [
    "# we want the daily returns for 147 trading days: 126 for the feature window and 21 for the target window. take 148 days\n",
    "# so we have a return for the first day. the target window will be used to calculate a geometric mean\n",
    "# the feature window will also be used to construct sub-windows from which to calculate geomtric means\n",
    "\n",
    "#IBM_timeline_data = pd.DataFrame()\n",
    "#IBM_timeline_data.columns = ['ticker','start_date'] + list(range(148))\n",
    "\n",
    "#k = 0\n",
    "\n",
    "#while((147+k)<len(IBM)):\n",
    "#    temp = []\n",
    "#    temp.append('IBM')\n",
    "#    temp.append(IBM.index[0+k])\n",
    "#    temp += list(IBM.Close.iloc[0+k:148+k])\n",
    "#    temp = pd.DataFrame(temp).transpose()\n",
    "#    IBM_timeline_data = IBM_timeline_data.append(temp)\n",
    "#    k+=1\n",
    "    \n",
    "#IBM_timeline_data = pd.to_csv('timeline-data/IBM_timeline_data.csv')"
   ]
  },
  {
   "cell_type": "code",
   "execution_count": 5,
   "metadata": {
    "collapsed": true
   },
   "outputs": [],
   "source": [
    "class process_stock:\n",
    "    def __init__(self,ticker):\n",
    "        self.data = pd.read_csv('timeline-data/'+ticker+'_timeline_data.csv')\n",
    "        self.data.columns = ['ticker','start'] + list(range(148))\n",
    "        self.data.drop(['ticker','start'],axis=1,inplace=True)\n",
    "        self.data = self.data.transpose()\n",
    "        for col in self.data.columns:\n",
    "            self.data[col] = self.data[col].pct_change()\n",
    "        self.data.dropna(inplace=True)\n",
    "        self.data.reset_index(drop=True,inplace=True)"
   ]
  },
  {
   "cell_type": "code",
   "execution_count": 6,
   "metadata": {
    "collapsed": true
   },
   "outputs": [],
   "source": [
    "ibm = process_stock('IBM')"
   ]
  },
  {
   "cell_type": "code",
   "execution_count": 15,
   "metadata": {
    "collapsed": true
   },
   "outputs": [],
   "source": [
    "# targets are the net return over the last 21 trading days (approx one month) of each timeline. \n",
    "# (will be converted to a binary classification framework -- positive or negative return over the month?)\n",
    "\n",
    "#targets = []\n",
    "\n",
    "#for col in ibm.data.columns:\n",
    "#    targets.append(np.prod(ibm.data[col].iloc[-21:]+1)-1)\n",
    "\n",
    "#pd.DataFrame(targets).to_csv('timeline-data/IBM-targets.csv',index=False)"
   ]
  },
  {
   "cell_type": "code",
   "execution_count": 155,
   "metadata": {
    "collapsed": true
   },
   "outputs": [],
   "source": [
    "# ibm.data.transpose().drop(list(range(126,147)),axis=1).to_csv('timeline-data/IBM-features.csv',index=False)"
   ]
  },
  {
   "cell_type": "code",
   "execution_count": null,
   "metadata": {
    "collapsed": true
   },
   "outputs": [],
   "source": []
  }
 ],
 "metadata": {
  "kernelspec": {
   "display_name": "Python 3",
   "language": "python",
   "name": "python3"
  },
  "language_info": {
   "codemirror_mode": {
    "name": "ipython",
    "version": 3
   },
   "file_extension": ".py",
   "mimetype": "text/x-python",
   "name": "python",
   "nbconvert_exporter": "python",
   "pygments_lexer": "ipython3",
   "version": "3.6.3"
  }
 },
 "nbformat": 4,
 "nbformat_minor": 2
}
