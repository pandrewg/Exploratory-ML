{
 "cells": [
  {
   "cell_type": "code",
   "execution_count": 1,
   "metadata": {
    "collapsed": true
   },
   "outputs": [],
   "source": [
    "# instead, now train each cycle with independent networks (e.g. don't mix the inputs of the 6 month cycles with the \n",
    "# 3 month cycles)\n",
    "\n",
    "# when the inputs are mixed (analogous to the independent networks being connected), we can (? in theory - to be tested) achieve\n",
    "# arbitrarily high training accuracy with a large enough network (i.e. overfit the data). by first separating the inputs, \n",
    "# and then joining the intermediate outputs with a final network, we hope to find \"real\" signal rather than noise\n",
    "\n",
    "# but: is there a fundamental reason why 3 month or 6 month cycles might contain signal? (\"alpha\")\n",
    "# time periods/cycles are hyperparameters of this model"
   ]
  },
  {
   "cell_type": "code",
   "execution_count": 1,
   "metadata": {
    "collapsed": true
   },
   "outputs": [],
   "source": [
    "import pandas as pd\n",
    "import numpy as np\n",
    "import os.path \n",
    "import pandas_datareader.data as web\n",
    "import datetime \n",
    "import matplotlib.pyplot as plt\n",
    "import seaborn as sns\n",
    "from scipy.stats.mstats import gmean\n",
    "\n",
    "%matplotlib inline\n",
    "plt.style.use('ggplot')"
   ]
  },
  {
   "cell_type": "code",
   "execution_count": 7,
   "metadata": {
    "collapsed": true
   },
   "outputs": [],
   "source": [
    "# predict bearish/bullish signal for the next month based on price data from previous 6 months\n",
    "# 1 - net positive return over the subsequent month. 0 - net negative return over the subsequent month. \n",
    "\n",
    "timelinedata = pd.read_csv('timeline-data/IBM-timeline-data.csv')\n",
    "\n",
    "features = pd.read_csv('timeline-data/IBM-features.csv')\n",
    "targets = pd.read_csv('timeline-data/IBM-targets.csv')\n",
    "targets = targets.apply(lambda x: x > 0).astype(int)"
   ]
  },
  {
   "cell_type": "code",
   "execution_count": 149,
   "metadata": {},
   "outputs": [
    {
     "data": {
      "text/plain": [
       "0    0.537953\n",
       "dtype: float64"
      ]
     },
     "execution_count": 149,
     "metadata": {},
     "output_type": "execute_result"
    }
   ],
   "source": [
    "# historical price data suggests an approximate random walk. (about as many bullish months as bearish)\n",
    "\n",
    "targets.sum()/len(targets)"
   ]
  },
  {
   "cell_type": "code",
   "execution_count": 115,
   "metadata": {
    "collapsed": true
   },
   "outputs": [],
   "source": [
    "# net return over the entire period. equivalently, we could take the geometric mean..that'd just be taking the n-th root\n",
    "\n",
    "sixmonthreturns = []\n",
    "\n",
    "for i in range(len(features)):\n",
    "    sixmonthreturns.append(np.prod(features.iloc[i]+1)-1)\n",
    "    \n",
    "sixmonthreturns = np.array(sixmonthreturns)"
   ]
  },
  {
   "cell_type": "code",
   "execution_count": 116,
   "metadata": {
    "collapsed": true,
    "scrolled": false
   },
   "outputs": [],
   "source": [
    "# net return over each half (3 month period)\n",
    "\n",
    "threemonthreturns = []\n",
    "\n",
    "for i in range(len(features)):\n",
    "    threemonthreturns.append([np.prod(features.iloc[i][:63]+1)-1,np.prod(features.iloc[i][63:]+1)-1])\n",
    "    \n",
    "threemonthreturns = np.array(threemonthreturns)"
   ]
  },
  {
   "cell_type": "code",
   "execution_count": 148,
   "metadata": {
    "collapsed": true
   },
   "outputs": [],
   "source": [
    "# net return over each third (2 month period)\n",
    "\n",
    "twomonthreturns = []\n",
    "\n",
    "for i in range(len(features)):\n",
    "    twomonthreturns.append([np.prod(features.iloc[i][0:42]+1)-1,\n",
    "                            np.prod(features.iloc[i][42:84]+1)-1,\n",
    "                            np.prod(features.iloc[i][84:]+1)-1])\n",
    "    \n",
    "twomonthreturns = np.array(twomonthreturns)"
   ]
  },
  {
   "cell_type": "code",
   "execution_count": 179,
   "metadata": {
    "collapsed": true
   },
   "outputs": [],
   "source": [
    "# col 0 - 6 month return. col 1 - first 3 month return. col 2 - seocnd 3 month return. col 3 - first 2 month return\n",
    "# col 4 - second 2 month return. col 5 - third 2 month return. \n",
    "\n",
    "# is it a good idea to mix all the periods like this..? to be seen if there is an underlying function of the cycles\n",
    "# that will be approximated by the feed forward NN\n",
    "\n",
    "# will not bother with normalizing the inputs for now.. since all the inputs are on the same scale already\n",
    "\n",
    "# RNN is probably a better approach\n",
    "\n",
    "final_features = pd.DataFrame(sixmonthreturns)\n",
    "final_features[1] = threemonthreturns[:,0]\n",
    "final_features[2] = threemonthreturns[:,1]\n",
    "final_features[3] = twomonthreturns[:,0]\n",
    "final_features[4] = twomonthreturns[:,1]\n",
    "final_features[5] = twomonthreturns[:,2]"
   ]
  },
  {
   "cell_type": "code",
   "execution_count": 275,
   "metadata": {
    "collapsed": true
   },
   "outputs": [],
   "source": [
    "# .drop() to remove the 2-month periods. they may be adding more noise than value..too many inputs\n",
    "\n",
    "features_train = final_features[:-1000]#.drop([3,4,5],axis=1)\n",
    "targets_train = targets[:-1000]\n",
    "\n",
    "features_test = final_features[-1000:]#.drop([3,4,5],axis=1)\n",
    "targets_test = targets[-1000:]"
   ]
  },
  {
   "cell_type": "code",
   "execution_count": 324,
   "metadata": {
    "collapsed": true
   },
   "outputs": [],
   "source": [
    "import tensorflow as tf\n",
    "\n",
    "model = tf.keras.Sequential()\n",
    "\n",
    "layer_hidden_units = [6,6,6,5,4,3,2,1]\n",
    "\n",
    "for i,hu in enumerate(layer_hidden_units):\n",
    "    if i == 0: # need to specify input dimensions for the first layer\n",
    "        model.add(tf.keras.layers.Dense(hu,activation='relu',input_dim=6,\n",
    "                                        kernel_initializer=tf.keras.initializers.TruncatedNormal))\n",
    "        continue\n",
    "    if i == len(layer_hidden_units)-1: # different activation for the output layer\n",
    "        model.add(tf.keras.layers.Dense(hu,activation='sigmoid'))\n",
    "        continue\n",
    "        \n",
    "    model.add(tf.keras.layers.Dense(hu,activation='relu',kernel_initializer=tf.keras.initializers.TruncatedNormal))\n",
    "    \n",
    "    \n",
    "model.compile(loss=tf.keras.losses.binary_crossentropy,\n",
    "              optimizer=tf.keras.optimizers.SGD(lr=0.00001, momentum=0.9, nesterov=True),\n",
    "              metrics=['accuracy'])"
   ]
  },
  {
   "cell_type": "code",
   "execution_count": 325,
   "metadata": {},
   "outputs": [
    {
     "name": "stdout",
     "output_type": "stream",
     "text": [
      "186.8700292110443\n"
     ]
    }
   ],
   "source": [
    "import time\n",
    "\n",
    "train_acc = []\n",
    "test_acc = []\n",
    "iters = 300\n",
    "\n",
    "tic = time.time()\n",
    "for i in range(iters):\n",
    "    model.fit(features_train.values,targets_train.values,epochs=1,batch_size=len(features_train),verbose=0)\n",
    "    train_acc.append(model.evaluate(features_train.values,targets_train.values,verbose=0)[1])\n",
    "    test_acc.append(model.evaluate(features_test.values,targets_test.values,verbose=0)[1])\n",
    "toc = time.time()\n",
    "print(toc-tic)"
   ]
  },
  {
   "cell_type": "code",
   "execution_count": 328,
   "metadata": {},
   "outputs": [
    {
     "data": {
      "text/plain": [
       "<matplotlib.legend.Legend at 0x2c10d2c6550>"
      ]
     },
     "execution_count": 328,
     "metadata": {},
     "output_type": "execute_result"
    },
    {
     "data": {
      "image/png": "[encoded data removed]",
      "text/plain": [
       "<matplotlib.figure.Figure at 0x2c10f3debe0>"
      ]
     },
     "metadata": {},
     "output_type": "display_data"
    }
   ],
   "source": [
    "# performance level is not better than guessing (50-50 ish)\n",
    "# test accuracy initially higher due to counts of each class (the untrained NN happens to predict more test cases correctly)\n",
    "\n",
    "fig, ax = plt.subplots(1,1,figsize=(16,6))\n",
    "\n",
    "ax.plot(list(range(iters)),train_acc)\n",
    "ax.plot(list(range(iters)),test_acc)\n",
    "ax.legend(['Train','Test'])\n",
    "#ax.set_ylim([0,0.9])"
   ]
  },
  {
   "cell_type": "code",
   "execution_count": null,
   "metadata": {
    "collapsed": true
   },
   "outputs": [],
   "source": []
  }
 ],
 "metadata": {
  "kernelspec": {
   "display_name": "Python 3",
   "language": "python",
   "name": "python3"
  },
  "language_info": {
   "codemirror_mode": {
    "name": "ipython",
    "version": 3
   },
   "file_extension": ".py",
   "mimetype": "text/x-python",
   "name": "python",
   "nbconvert_exporter": "python",
   "pygments_lexer": "ipython3",
   "version": "3.6.3"
  }
 },
 "nbformat": 4,
 "nbformat_minor": 2
}
